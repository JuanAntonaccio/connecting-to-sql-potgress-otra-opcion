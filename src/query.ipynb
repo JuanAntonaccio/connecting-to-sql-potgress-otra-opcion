{
 "cells": [
  {
   "cell_type": "code",
   "execution_count": null,
   "metadata": {},
   "outputs": [],
   "source": [
    "import psycopg2\n",
    "\n",
    "conn = psycopg2.connect(database=\"d4gkb7j795avqi\",\n",
    "                        user=\"ipfmrqtpvkmdfl\",\n",
    "                        password=\"e2d6ea424e7fa6967f2206535a9fc0e82e1d26b813b18f52d765763c75b70ccd\",\n",
    "                        host=\"ec2-52-71-23-11.compute-1.amazonaws.com\",\n",
    "                        port=\"5432\")\n",
    "\n",
    "cursor = conn.cursor()\n",
    "\n",
    "cursor.execute(\"SELECT * FROM Peliculas WHERE id=1;\")\n",
    "\n",
    "conn.close()\n",
    "\n"
   ]
  }
 ],
 "metadata": {
  "language_info": {
   "name": "python"
  },
  "orig_nbformat": 4
 },
 "nbformat": 4,
 "nbformat_minor": 2
}
